{
 "cells": [
  {
   "cell_type": "code",
   "execution_count": 17,
   "id": "6b094ed5-527b-4037-b20b-b2cfd3aecdfa",
   "metadata": {},
   "outputs": [],
   "source": [
    "import numpy as np\n",
    "import pandas as pd\n",
    "import numpy as np\n",
    "import os\n",
    "from astropy.table import Table\n",
    "import matplotlib.pyplot as plt\n",
    "from astroquery.gaia import Gaia"
   ]
  },
  {
   "cell_type": "code",
   "execution_count": 18,
   "id": "d1fb041a-1fbb-4b0f-a570-8625db44125b",
   "metadata": {},
   "outputs": [],
   "source": [
    "class cluster_membership: \n",
    "    \n",
    "    def __init__(self, name, ra, dec, radius):\n",
    "        self.name = name\n",
    "        self.ra = ra\n",
    "        self.dec = dec\n",
    "        self.radius = radius\n",
    "    \n",
    "    def cone_search(self):\n",
    "\n",
    "        gaia_query = Gaia.launch_job_async(f\"\"\"SELECT source_id, ra, ra_error, dec,\\\n",
    "                                 dec_error, parallax, parallax_error,\\\n",
    "                                 parallax_over_error, \\\n",
    "                                 pmra, pmra_error, pmdec, pmdec_error,\\\n",
    "                                 radial_velocity, radial_velocity_error,\\\n",
    "                                 phot_g_mean_mag, phot_bp_mean_mag,\\\n",
    "                                 phot_rp_mean_mag,bp_rp,\\\n",
    "                                 astrometric_excess_noise,\\\n",
    "                                 phot_bp_rp_excess_factor,\\\n",
    "                                 DISTANCE({ra}, {dec}, ra, dec)\\\n",
    "                                 FROM gaiadr3.gaia_source\\\n",
    "                                 WHERE DISTANCE({ra}, {dec}, ra, dec) < {radius} / 60. \"\"\",                              \n",
    "                                 dump_to_file=False) \n",
    "        \n",
    "        # To avoid saving the data in the server we use async\n",
    "        # We filter stars with errors too large, or apparent magnitud too small \n",
    "        # Units in degrees\n",
    "        # An f-string allows to embed expressions inside string literals, within {}\n",
    "        \n",
    "        gaia_data = gaia_query.get_results() \n",
    "        df = gaia_data.to_pandas() # convert the results in a data frame\n",
    "        df = df.dropna(subset=['radial_velocity']) # Quitamos las que no tienen velocidad radial\n",
    "        \n",
    "        return df# We get back the data frame\n",
    "    \n",
    "    def pandas_to_fits(self, data_frame, name ='some_file' , reduced_df = None):\n",
    "\n",
    "        fits_arc = Table.from_pandas(data_frame)\n",
    "        fits_arc.write(name + '.fits')\n",
    "    \n",
    "    \n",
    "    def series_str(self): \n",
    "        \n",
    "        series_str = pd.Series([\"parallax\", \"parallax_error\", \"pmra\", \"pmra_error\", \"pmdec\", \"pmdec_error\", \"radial_velocity\", \"radial_velocity_error\", \"phot_g_mean_mag\", \"bp_rp\", \"astrometric_excess_noise\", \"phot_bp_rp_excess_factor\"])\n",
    "        print(\"\"\"The parameters for which the clusters can be filtered are: \n",
    "\"\"\",series_str)                   \n",
    "        return (series_str) # We need a list with the indexes for every available parameter, so we can call them back later \n",
    "    \n",
    "    def filtering (self, data_frame, series_str, ind, mini, maxi):\n",
    "        \n",
    "        fltd_min = data_frame[data_frame[series_str[ind]] < maxi ]\n",
    "        fltd = fltd_min[mini < fltd_min[series_str[ind]]] # We filtered the data of the defined parameter between the defined limits\n",
    "\n",
    "        return fltd # The reduced data frame\n",
    "    \n",
    "    def plot_one_set (self, data_frame, series_str, indx, indy, reduced_data_frame = None, xtext = 'x data', ytext = 'y data', xlimit = None, ylimit = None, savefig=False):\n",
    "\n",
    "        # data_frame[\"phot_g_mean_mag\"] =+ (5 * np.log10(data_frame[\"parallax\"]/100)\n",
    "        \n",
    "        x_data = data_frame[series_str[indx]]\n",
    "        y_data = data_frame[series_str[indy]]\n",
    "        \n",
    "        fig = plt.figure(figsize = (8, 6))\n",
    "        gs = fig.add_gridspec(4, 4)  # Create a grid of subplots\n",
    "\n",
    "        ax_main = fig.add_subplot(gs[1:4, 0:3]) # Place of the main plot in the grid of subplots\n",
    "\n",
    "        ax_main.scatter(x_data , y_data, s = 7, c = 'darkorange')\n",
    "        \n",
    "        ax_hist_x = fig.add_subplot(gs[0, 0:3], sharex=ax_main) # Place of both histograms in the grid\n",
    "        ax_hist_y = fig.add_subplot(gs[1:4, 3], sharey=ax_main)\n",
    "\n",
    "        ax_hist_x.get_xaxis().set_visible(False) # Hide certain axes\n",
    "        ax_hist_y.get_yaxis().set_visible(False)\n",
    "        \n",
    "        bin_width_x = 0.001\n",
    "        bin_width_y = 0.001\n",
    "\n",
    "        bins_x = 80\n",
    "        bins_y = 80\n",
    "        # bins_x = np.arange(min(x_data), max(x_data) + bin_width_x, bin_width_x)\n",
    "        # bins_y = np.arange(min(y_data), max(y_data) + bin_width_y, bin_width_y)  \n",
    "        \n",
    "        ax_hist_x.hist(x_data, bins = bins_x, color='darkorange', alpha=0.5)\n",
    "        ax_hist_y.hist(y_data, bins = bins_y, color='darkorange', alpha=0.5, orientation='horizontal')\n",
    "\n",
    "        if reduced_data_frame is not None: \n",
    "\n",
    "            # reduced_data_frame[\"phot_g_mean_mag\"] =+ 5 * np.log10(reduced_data_frame[\"parallax\"]/100) \n",
    "            x_data_reduced = reduced_data_frame[series_str[indx]]\n",
    "            y_data_reduced = reduced_data_frame[series_str[indy]]\n",
    "            \n",
    "            ax_main.scatter(x_data_reduced, y_data_reduced, s = 7, c = 'purple') # Extra scatterplot for an additional set of data\n",
    "\n",
    "            # bins_x = np.arange(min(x_data_reduced), max(x_data_reduced) + bin_width_x, bin_width_x)\n",
    "            # bins_y = np.arange(min(y_data_reduced), max(y_data_reduced) + bin_width_y, bin_width_y)  \n",
    "            \n",
    "            ax_hist_x.hist(x_data_reduced, bins= bins_x, color='purple', alpha=0.5)\n",
    "            ax_hist_y.hist(y_data_reduced, bins= bins_y, color='purple', alpha=0.5, orientation='horizontal')\n",
    "\n",
    "        ax_main.tick_params(axis='both', labelsize=10)  # Main plot tick labels\n",
    "        ax_hist_x.tick_params(axis='y', labelsize=10)  # histograms tick labels\n",
    "        ax_hist_y.tick_params(axis='x', labelsize=10) \n",
    "\n",
    "        # fig.suptitle(f'Datos d: {name}', fontsize = 18)\n",
    "        fig.tight_layout()\n",
    "        fig.subplots_adjust(hspace=0.3,wspace=0.3)\n",
    "                          \n",
    "        ax_main.set_xlabel (xtext, fontsize = 18)\n",
    "        ax_main.set_ylabel (ytext, fontsize = 18)\n",
    "\n",
    "        if xlimit is not None:\n",
    "            \n",
    "            ax_main.set_xlim(xlimit[0], xlimit[1]) # Available option of setting the limits of the figure\n",
    "            \n",
    "        if ylimit is not None:\n",
    "            \n",
    "            ax_main.set_ylim(ylimit[0], ylimit[1])\n",
    "            \n",
    "        if savefig == True: \n",
    "\n",
    "            path = input ('Path of the saved figure: ') # Available option of saving the figure as a pdf\n",
    "            file_name = input ('Name of the figure: ')\n",
    "            full_path = os.path.join(path, file_name)\n",
    "            os.makedirs(path, exist_ok=True)\n",
    "            plt.savefig(full_path, format='pdf', bbox_inches='tight')\n",
    "\n",
    "        plt.show()\n",
    "\n",
    "        if reduced_data_frame is None:\n",
    "                \n",
    "            print('The number of stars in the diagram is ',len(data_frame)) # We print the number of stars of the defined set\n",
    "\n",
    "        if reduced_data_frame is not None: \n",
    "\n",
    "            print('The number of stars in the diagram from the first set is ',len(data_frame))\n",
    "            print('The number of stars in the diagram from the second set is ',len(reduced_data_frame))\n",
    "\n",
    "    def mag_abs(self,data_frame, reduced_data_frame = None, fix_parallax = False):\n",
    "\n",
    "        if reduced_data_frame is None: \n",
    "            \n",
    "            if fix_parallax == False:\n",
    "\n",
    "                data_frame[\"phot_g_mean_mag\"] = data_frame[\"phot_g_mean_mag\"] + (5 * np.log10(data_frame[\"parallax\"]/100)) # Transform the apparent magnitud into absolute magnitud\n",
    "    \n",
    "            if fix_parallax == True:\n",
    "                fixed_par = input('The literature parallax of the studied cluster is: ')\n",
    "                data_frame[\"phot_g_mean_mag\"] = data_frame[\"phot_g_mean_mag\"] + (5 * np.log10(float(fixed_par)/100.))\n",
    "\n",
    "            return(data_frame)\n",
    "        \n",
    "        if reduced_data_frame is not None: \n",
    "            \n",
    "            if fix_parallax == False:\n",
    "                data_frame[\"phot_g_mean_mag\"] = data_frame[\"phot_g_mean_mag\"] + (5 * np.log10(data_frame[\"parallax\"]/100)) # Transform the apparent magnitud into absolute magnitud\n",
    "                reduced_data_frame[\"phot_g_mean_mag\"] = reduced_data_frame[\"phot_g_mean_mag\"] + (5 * np.log10(data_frame[\"parallax\"]/100))\n",
    "\n",
    "            if fix_parallax == True:\n",
    "                fixed_par = input('The literature parallax of the studied cluster is: ')\n",
    "                data_frame[\"phot_g_mean_mag\"] = data_frame[\"phot_g_mean_mag\"] + (5 * np.log10(float(fixed_par)/100.))\n",
    "                reduced_data_frame[\"phot_g_mean_mag\"] = reduced_data_frame[\"phot_g_mean_mag\"] + (5 * np.log10(float(fixed_par)/100.))\n",
    "\n",
    "            return(data_frame, reduced_data_frame)\n",
    "\n",
    "    def plot_cm_diagram(self, data_frame, reduced_data_frame = None, savefig = False, xlimit = None, ylimit = None, histograms = True):\n",
    "    # Very similar function to the previous one, only specific for CM diagrams exclusively. Additional option of hiding the histograms.\n",
    "        \n",
    "        if histograms == True: \n",
    "\n",
    "            y_data = data_frame[\"phot_g_mean_mag\"]\n",
    "            x_data = data_frame[\"bp_rp\"]\n",
    "            \n",
    "            fig = plt.figure(figsize = (8,6))\n",
    "            gs = fig.add_gridspec(4, 4)\n",
    "\n",
    "            ax_main = fig.add_subplot(gs[1:4, 0:3])\n",
    "            \n",
    "            ax_main.scatter(x_data, y_data, s = 7, c = 'darkorange')\n",
    "            \n",
    "            ax_hist_x = fig.add_subplot(gs[0, 0:3], sharex=ax_main)\n",
    "            ax_hist_y = fig.add_subplot(gs[1:4, 3], sharey=ax_main)\n",
    "            \n",
    "            ax_hist_x.get_xaxis().set_visible(False)\n",
    "            ax_hist_y.get_yaxis().set_visible(False)\n",
    "\n",
    "            # bin_width_x = 0.2\n",
    "            # bin_width_y = 0.1\n",
    "            \n",
    "            # bins_x = np.arange(min(x_data), max(x_data) + bin_width_x, bin_width_x)\n",
    "            # bins_y = np.arange(min(y_data), max(y_data) + bin_width_y, bin_width_y)\n",
    "\n",
    "            bins_x = 80\n",
    "            bins_y = 80\n",
    "            \n",
    "            ax_hist_x.hist(x_data, bins = bins_x, color='darkorange', alpha = 0.5)\n",
    "            ax_hist_y.hist(y_data, bins = bins_y, color='darkorange', alpha = 0.5, orientation='horizontal')\n",
    "\n",
    "            if reduced_data_frame is not None:\n",
    "\n",
    "                y_data_reduced = reduced_data_frame[\"phot_g_mean_mag\"]\n",
    "                x_data_reduced = reduced_data_frame[\"bp_rp\"]\n",
    "\n",
    "                ax_main.scatter(x_data_reduced, y_data_reduced, s = 7, c = 'purple')\n",
    "                \n",
    "                # bins_x = np.arange(min(x_data_reduced), max(x_data_reduced) + bin_width_x, bin_width_x)\n",
    "                # bins_y = np.arange(min(y_data_reduced), max(y_data_reduced) + bin_width_y, bin_width_y)\n",
    "                \n",
    "                ax_hist_x.hist(x_data_reduced, bins = bins_x , color='purple', alpha=0.5)\n",
    "                ax_hist_y.hist(y_data_reduced, bins = bins_y , color='purple', alpha=0.5, orientation='horizontal')\n",
    "\n",
    "            ax_main.tick_params(axis='both', labelsize=10)  # Main plot tick labels\n",
    "            ax_hist_x.tick_params(axis='y', labelsize=10)  # X-axis histograms tick labels\n",
    "            ax_hist_y.tick_params(axis='x', labelsize=10)  # Y-axis histograms tick labels\n",
    "            \n",
    "            ax_main.invert_yaxis()\n",
    "            fig.suptitle(f'Diagrama HR del cúmulo: {name}', fontsize = 18)\n",
    "            fig.tight_layout()\n",
    "            fig.subplots_adjust(hspace=0.3,wspace=0.3)\n",
    "            ax_main.set_xlabel (r'$G_{BP}-G_{RP}$', fontsize = 18)\n",
    "            ax_main.set_ylabel (r'$M_G$', fontsize = 18)\n",
    "\n",
    "            if xlimit is not None:\n",
    "            \n",
    "                ax_main.set_xlim(xlimit[0], xlimit[1])\n",
    "            \n",
    "            if ylimit is not None:\n",
    "            \n",
    "                ax_main.set_ylim(ylimit[0], ylimit[1])\n",
    "            \n",
    "            if savefig == True: \n",
    "\n",
    "                path = input ('Path of the saved figure: ')\n",
    "                file_name = input ('Name of the figure: ')\n",
    "                full_path = os.path.join(path, file_name)\n",
    "                os.makedirs(path, exist_ok=True)\n",
    "                plt.savefig(full_path, format='pdf', bbox_inches='tight')\n",
    "\n",
    "            plt.show()\n",
    "\n",
    "            if reduced_data_frame is None:\n",
    "                \n",
    "                print('The number of stars in the diagram is ',len(data_frame))\n",
    "\n",
    "            if reduced_data_frame is not None: \n",
    "\n",
    "                print('The number of stars in the diagram from the first set is ',len(data_frame))\n",
    "                print('The number of stars in the diagram from the second set is ',len(reduced_data_frame))\n",
    "                \n",
    "\n",
    "        if histograms == False:\n",
    "                \n",
    "            y_data = data_frame[\"phot_g_mean_mag\"]\n",
    "            x_data = data_frame[\"bp_rp\"]\n",
    "            \n",
    "            fig = plt.figure(figsize = (8,6))\n",
    "            plt.scatter(x_data, y_data, s = 7, c = 'darkorange')\n",
    "\n",
    "            if reduced_data_frame is not None:\n",
    "                    \n",
    "                y_data_reduced = reduced_data_frame[\"phot_g_mean_mag\"]\n",
    "                x_data_reduced = reduced_data_frame[\"bp_rp\"]\n",
    "\n",
    "                plt.scatter(x_data_reduced, y_data_reduced, s = 7, c = 'purple')\n",
    "            \n",
    "            plt.tick_params(axis='both', labelsize=10)  # Main plot tick labels\n",
    "                \n",
    "            plt.gca().invert_yaxis()            \n",
    "            plt.suptitle(f'Diagrama HR del cúmulo: {name}', fontsize = 18)\n",
    "            plt.tight_layout()\n",
    "            plt.subplots_adjust(hspace=0.3,wspace=0.3)\n",
    "            plt.xlabel (r'$G_{BP}-G_{RP}$', fontsize = 18)\n",
    "            plt.ylabel (r'$M_G$', fontsize = 18)\n",
    "            \n",
    "            if xlimit is not None:\n",
    "            \n",
    "                plt.xlim(xlimit[0], xlimit[1])\n",
    "            \n",
    "            if ylimit is not None:\n",
    "            \n",
    "                plt.ylim(ylimit[0], ylimit[1])\n",
    "            \n",
    "            if savefig == True: \n",
    "\n",
    "                path = input ('Path of the saved figure: ')\n",
    "                file_name = input ('Name of the figure: ')\n",
    "                full_path = os.path.join(path, file_name)\n",
    "                os.makedirs(path, exist_ok=True)\n",
    "                plt.savefig(full_path, format='pdf', bbox_inches='tight')\n",
    "\n",
    "            plt.show()\n",
    "\n",
    "            if reduced_data_frame is None:\n",
    "                \n",
    "                print('The number of stars in the diagram is ',len(data_frame))\n",
    "\n",
    "            if reduced_data_frame is not None: \n",
    "\n",
    "                print('The number of stars in the diagram from the first set is ',len(data_frame))\n",
    "                print('The number of stars in the diagram from the second set is ',len(reduced_data_frame))\n",
    "                \n",
    "    def help(self): # Extra function that explains how each function of the program work\n",
    "        \n",
    "        print(\"\"\"\n",
    "        cone_search: Performs the cone search query for the specified coordinates and provides: data frame with all the parameters, parallax, proper motion in right ascension and declination, magnitud in g band, color BP-RP, radial velocity\n",
    "        \n",
    "        cone_search_errors: Performs the same cone search and provides the data frame, errors for every parameter listed above, apart from astrometric exccess noise and photometric excess factor\n",
    "        \n",
    "        series_str: Provides a list with the indexes of every parameter, so it can be used in the analysis functions\n",
    "        \n",
    "        filtering: Filters the data for the parameter specified by the index, and for the specified limits\n",
    "        \n",
    "        plot_sets: Provides a figure comparing the values of two different parameters specified by the index for every star, for one or two sets\n",
    "        \n",
    "        plot_cm_diagram: Provides a fig\n",
    "        \n",
    "        \"\"\")"
   ]
  },
  {
   "cell_type": "code",
   "execution_count": 19,
   "id": "33a94011-4dbe-4801-be1e-3623bb5ba3a6",
   "metadata": {
    "scrolled": true
   },
   "outputs": [
    {
     "name": "stdout",
     "output_type": "stream",
     "text": [
      "INFO: Query finished. [astroquery.utils.tap.core]\n"
     ]
    }
   ],
   "source": [
    "name = 'M54' # Simbad info\n",
    "ra = 283.764 # degrees\n",
    "dec = -30.480 # degrees\n",
    "radius = 14./2. #arcmin \n",
    "\n",
    "M54 = cluster_membership(name, ra, dec, radius)\n",
    "\n",
    "data_frame = M54.cone_search()"
   ]
  },
  {
   "cell_type": "code",
   "execution_count": 20,
   "id": "1037b364-01c4-4913-ba4a-48c379fcc240",
   "metadata": {},
   "outputs": [
    {
     "name": "stdout",
     "output_type": "stream",
     "text": [
      "The parameters for which the clusters can be filtered are: \n",
      " 0                     parallax\n",
      "1               parallax_error\n",
      "2                         pmra\n",
      "3                   pmra_error\n",
      "4                        pmdec\n",
      "5                  pmdec_error\n",
      "6              radial_velocity\n",
      "7        radial_velocity_error\n",
      "8              phot_g_mean_mag\n",
      "9                        bp_rp\n",
      "10    astrometric_excess_noise\n",
      "11    phot_bp_rp_excess_factor\n",
      "dtype: object\n"
     ]
    }
   ],
   "source": [
    "indexes = M54.series_str()"
   ]
  },
  {
   "cell_type": "code",
   "execution_count": 21,
   "id": "c2373580-4e39-4b13-8002-026cd7fa8fb7",
   "metadata": {},
   "outputs": [
    {
     "data": {
      "image/png": "[encoded data removed]",
      "text/plain": [
       "<Figure size 800x600 with 3 Axes>"
      ]
     },
     "metadata": {},
     "output_type": "display_data"
    },
    {
     "name": "stdout",
     "output_type": "stream",
     "text": [
      "The number of stars in the diagram is  124\n"
     ]
    }
   ],
   "source": [
    "M54.plot_one_set(data_frame, indexes, 2,4)"
   ]
  },
  {
   "cell_type": "code",
   "execution_count": 22,
   "id": "bd5c4b26-31ff-44a8-bd68-a97207f165f2",
   "metadata": {},
   "outputs": [],
   "source": [
    "data_pm = M54.filtering(data_frame, indexes, 2, -2.779, -2.579)\n",
    "data_pm = M54.filtering(data_pm, indexes, 4, -1.487, -1.287)"
   ]
  },
  {
   "cell_type": "code",
   "execution_count": 24,
   "id": "f62fb66e-0250-400b-9e10-7b75927cd3d7",
   "metadata": {},
   "outputs": [],
   "source": [
    "# M54.pandas_to_fits(data_pm, name = 'filt_20_estrellasss')"
   ]
  },
  {
   "cell_type": "code",
   "execution_count": 25,
   "id": "f9e52561-4721-4eca-8c22-dea1affb3c1d",
   "metadata": {},
   "outputs": [
    {
     "data": {
      "image/png": "[encoded data removed]",
      "text/plain": [
       "<Figure size 800x600 with 3 Axes>"
      ]
     },
     "metadata": {},
     "output_type": "display_data"
    },
    {
     "name": "stdout",
     "output_type": "stream",
     "text": [
      "The number of stars in the diagram from the first set is  124\n",
      "The number of stars in the diagram from the second set is  20\n"
     ]
    }
   ],
   "source": [
    "M54.plot_one_set(data_frame, indexes, 2,4, data_pm)"
   ]
  },
  {
   "cell_type": "code",
   "execution_count": 26,
   "id": "046bd752-01e9-4f51-b790-2bd835690a87",
   "metadata": {},
   "outputs": [
    {
     "name": "stdin",
     "output_type": "stream",
     "text": [
      "The literature parallax of the studied cluster is:  0.053\n"
     ]
    }
   ],
   "source": [
    "final_frame, final_frame_red = M54.mag_abs(data_frame, data_pm, fix_parallax = True)"
   ]
  },
  {
   "cell_type": "code",
   "execution_count": 30,
   "id": "922a7d74-f416-4f3f-b32d-2cdff51909c0",
   "metadata": {},
   "outputs": [
    {
     "data": {
      "image/png": "[encoded data removed]",
      "text/plain": [
       "<Figure size 800x600 with 1 Axes>"
      ]
     },
     "metadata": {},
     "output_type": "display_data"
    },
    {
     "name": "stdout",
     "output_type": "stream",
     "text": [
      "The number of stars in the diagram is  20\n"
     ]
    }
   ],
   "source": [
    "M54.plot_cm_diagram(final_frame_red, xlimit = [1,3], ylimit = [-5,0], histograms = False)"
   ]
  },
  {
   "cell_type": "code",
   "execution_count": null,
   "id": "7dd9d35f-7aa0-4e46-a31b-0a3bf7b55baf",
   "metadata": {},
   "outputs": [],
   "source": []
  }
 ],
 "metadata": {
  "kernelspec": {
   "display_name": "Python 3 (ipykernel)",
   "language": "python",
   "name": "python3"
  },
  "language_info": {
   "codemirror_mode": {
    "name": "ipython",
    "version": 3
   },
   "file_extension": ".py",
   "mimetype": "text/x-python",
   "name": "python",
   "nbconvert_exporter": "python",
   "pygments_lexer": "ipython3",
   "version": "3.12.3"
  }
 },
 "nbformat": 4,
 "nbformat_minor": 5
}
